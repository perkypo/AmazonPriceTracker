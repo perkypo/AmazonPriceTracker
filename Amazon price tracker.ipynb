{
 "cells": [
  {
   "cell_type": "markdown",
   "id": "6afcc9e5",
   "metadata": {},
   "source": [
    "Import the required libraries"
   ]
  },
  {
   "cell_type": "code",
   "execution_count": 1,
   "id": "74bc8a65",
   "metadata": {},
   "outputs": [],
   "source": [
    "import pandas as pd\n",
    "\n",
    "from bs4 import BeautifulSoup\n",
    "import requests\n",
    "import csv\n",
    "\n",
    "import re\n",
    "import time\n",
    "import datetime\n",
    "\n",
    "import smtplib"
   ]
  },
  {
   "cell_type": "markdown",
   "id": "3ede64bc",
   "metadata": {},
   "source": [
    "Create a csv file to record the daily price"
   ]
  },
  {
   "cell_type": "code",
   "execution_count": 2,
   "id": "36a02ab4",
   "metadata": {},
   "outputs": [],
   "source": [
    "header = ['Title','Price','Date']\n",
    "\n",
    "with open('AmazonProductsDataset.csv','w',newline='', encoding='UTF8') as f:\n",
    "    writer = csv.writer(f)\n",
    "    writer.writerow(header)"
   ]
  },
  {
   "cell_type": "markdown",
   "id": "88fe92e8",
   "metadata": {},
   "source": [
    "Connect to the website and pull in data"
   ]
  },
  {
   "cell_type": "code",
   "execution_count": 3,
   "id": "8e33b3a9",
   "metadata": {},
   "outputs": [],
   "source": [
    "def check_price():\n",
    "    #url of the item you need to monitor    \n",
    "    url = \"https://www.amazon.com/Star-Trek-Generation-Operations-Uniform/dp/B08P2J699Y/ref=sr_1_2?crid=S8HSC5AUKWNZ&keywords=data+tshirt&qid=1648462834&sprefix=data+tshir%2Caps%2C403&sr=8-2\"\n",
    "\n",
    "    headers = { \"User-Agent\": \"Mozilla/5.0 (Windows NT 10.0; Win64; x64) AppleWebKit/537.36 (KHTML, like Gecko) Chrome/99.0.4844.83 Safari/537.36\", \n",
    "            \"Accept-Encoding\": \"gzip, deflate, br\", \n",
    "            \"Accept\": \"text/html,application/xhtml+xml,application/xml;q=0.9,image/avif,image/webp,image/apng,*/*;q=0.8,application/signed-exchange;v=b3;q=0.9\", \n",
    "            \"DNT\":\"1\",\n",
    "            \"Connection\":\"close\", \n",
    "            \"Upgrade-Insecure-Requests\":\"1\"}\n",
    "\n",
    "    page = requests.get(url, headers=headers)\n",
    "\n",
    "    #parses the page content and displayed as special formatting\n",
    "    soup = BeautifulSoup(page.content, \"html.parser\")\n",
    "    pretty_soup = soup.prettify()\n",
    "\n",
    "    #Extract the title and price of the product\n",
    "    title = soup.find(id='productTitle').get_text().strip()\n",
    "    #print(title)\n",
    "\n",
    "    price = float(re.findall('\\d+.\\d+', soup.find(id=\"corePrice_desktop\").get_text())[0])\n",
    "    \n",
    "    #email if the price drops\n",
    "    if(price<=15):\n",
    "            send_email()\n",
    "    #print(price)\n",
    "\n",
    "    #get today's date\n",
    "    date = datetime.date.today()\n",
    "    #print(date)\n",
    "\n",
    "    #reviews = re.findall('\\d+', soup.find(id='averageCustomerReviews_feature_div').get_text())  #try to extract the rating as 4.4 instead.\n",
    "    #print(reviews)\n",
    "\n",
    "    data = [title,price,date]\n",
    "\n",
    "    with open('AmazonProductsDataset.csv','a+',newline='', encoding='UTF8') as f:\n",
    "        writer = csv.writer(f)\n",
    "        writer.writerow(data)\n"
   ]
  },
  {
   "cell_type": "code",
   "execution_count": 4,
   "id": "ae7b5274",
   "metadata": {},
   "outputs": [
    {
     "name": "stdout",
     "output_type": "stream",
     "text": [
      "                                               Title  Price        Date\n",
      "0  Star Trek: The Next Generation Operations Unif...  29.95  2022-04-03\n"
     ]
    }
   ],
   "source": [
    "#View the csv File\n",
    "\n",
    "check_price()\n",
    "\n",
    "df = pd.read_csv('AmazonProductsDataset.csv')\n",
    "\n",
    "print(df)"
   ]
  },
  {
   "cell_type": "markdown",
   "id": "14567780",
   "metadata": {},
   "source": [
    "Email it to someone when the price drops"
   ]
  },
  {
   "cell_type": "code",
   "execution_count": null,
   "id": "273e4ad6",
   "metadata": {},
   "outputs": [],
   "source": [
    "\n",
    "\n",
    "def send_email():\n",
    "    server = smtplib.SMTP_SSL('smtp.gmail.com',465)\n",
    "    server.ehlo()\n",
    "    #server.starttls()\n",
    "    #server.ehlo()\n",
    "    server.login('sender***email@gmail.com','pass*******word')\n",
    "    \n",
    "    subject = \"The Shirt you want is below $15! Now is your chance to buy!\"\n",
    "    body = \"Hi Lotus Shan, This is the moment we have been waiting for. Now is your chance to pick up the shirt of your dreams. Don't mess it up! Link here: https://www.amazon.com/Star-Trek-Generation-Operations-Uniform/dp/B08P2J699Y/ref=sr_1_2?crid=S8HSC5AUKWNZ&keywords=data+tshirt&qid=1648462834&sprefix=data+tshir%2Caps%2C403&sr=8-2\"\n",
    "   \n",
    "    msg = f\"Subject: {subject}\\n\\n{body}\"\n",
    "    \n",
    "    server.sendmail('receiver***email@gmail.com',msg)"
   ]
  },
  {
   "cell_type": "markdown",
   "id": "c2f5a359",
   "metadata": {},
   "source": [
    "Run the above code in certain time period to keep a track on the product details"
   ]
  },
  {
   "cell_type": "code",
   "execution_count": null,
   "id": "6ff64feb",
   "metadata": {},
   "outputs": [],
   "source": [
    "# Runs check_price in certain time interval and inputs data into your CSV\n",
    "\n",
    "while(True):\n",
    "    check_price()\n",
    "    time.sleep(3600) # 3600 sec = 1 hour\n"
   ]
  }
 ],
 "metadata": {
  "interpreter": {
   "hash": "9e40ffa7deeda59365f8486fed2cf0c309c4166cfd91c64bab1a7412ac8132ae"
  },
  "kernelspec": {
   "display_name": "Python 3.10.1 64-bit",
   "language": "python",
   "name": "python3"
  },
  "language_info": {
   "codemirror_mode": {
    "name": "ipython",
    "version": 3
   },
   "file_extension": ".py",
   "mimetype": "text/x-python",
   "name": "python",
   "nbconvert_exporter": "python",
   "pygments_lexer": "ipython3",
   "version": "3.10.1"
  }
 },
 "nbformat": 4,
 "nbformat_minor": 5
}
